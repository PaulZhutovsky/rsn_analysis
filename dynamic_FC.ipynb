{
 "cells": [
  {
   "cell_type": "code",
   "execution_count": 38,
   "metadata": {
    "collapsed": true
   },
   "outputs": [],
   "source": [
    "%matplotlib inline\n",
    "import numpy as np\n",
    "import matplotlib.pyplot as plt\n",
    "import os.path as os\n",
    "from statsmodels.tsa.tsatools import detrend\n",
    "from scipy.signal import butter, filtfilt, tukey"
   ]
  },
  {
   "cell_type": "code",
   "execution_count": 62,
   "metadata": {
    "collapsed": true
   },
   "outputs": [],
   "source": [
    "dual_reg_folder = '/data/pzhutovsky/fMRI_data/Oxytosin_study/analysis/dual_regression_group_biswal2010/'\n",
    "timecoure_template = 'dr_stage1_subject{:05}.txt'\n",
    "num_subj = 75\n",
    "TR = 2.\n",
    "FS = 1/TR\n",
    "nyq = 0.5 * FS\n",
    "N_vol = 238\n",
    "N_rsn = 20\n",
    "window_size = 22\n",
    "window_stepsize = 1\n",
    "num_windows = np.floor((N_vol - window_size)/window_stepsize + 1).astype(np.int)"
   ]
  },
  {
   "cell_type": "markdown",
   "metadata": {},
   "source": [
    "### Post-processing (minimal)"
   ]
  },
  {
   "cell_type": "code",
   "execution_count": 35,
   "metadata": {
    "collapsed": false
   },
   "outputs": [],
   "source": [
    "data_all_subj = np.zeros((N_vol, N_rsn, num_subj))\n",
    "b, a = butter(6, 0.15/nyq, btype='lowpass')\n",
    "\n",
    "for id_sub in xrange(num_subj):\n",
    "    data_subj = np.loadtxt(osp.join(dual_reg_folder, timecoure_template.format(id_sub)))\n",
    "    data_subj = detrend(data_subj, axis=0, order=1)\n",
    "    data_subj = detrend(data_subj, axis=0, order=2)\n",
    "    data_subj = detrend(data_subj, axis=0, order=3)\n",
    "    data_subj = filtfilt(b, a, data_subj, axis=0)\n",
    "    data_subj = (data_subj - data_subj.mean(axis=0, keepdims=True))/data_subj.std(axis=0, keepdims=True)\n",
    "    \n",
    "    data_all_subj[..., id_sub] = data_subj"
   ]
  },
  {
   "cell_type": "markdown",
   "metadata": {},
   "source": [
    "### Windowing"
   ]
  },
  {
   "cell_type": "code",
   "execution_count": 44,
   "metadata": {
    "collapsed": false
   },
   "outputs": [],
   "source": [
    "w = tukey(M=window_size)"
   ]
  },
  {
   "cell_type": "code",
   "execution_count": 45,
   "metadata": {
    "collapsed": false
   },
   "outputs": [
    {
     "data": {
      "text/plain": [
       "[<matplotlib.lines.Line2D at 0x7fa661ae9810>]"
      ]
     },
     "execution_count": 45,
     "metadata": {},
     "output_type": "execute_result"
    },
    {
     "data": {
      "image/png": "[encoded data removed]",
      "text/plain": [
       "<matplotlib.figure.Figure at 0x7fa66174db90>"
      ]
     },
     "metadata": {},
     "output_type": "display_data"
    }
   ],
   "source": [
    "plt.plot(w)"
   ]
  },
  {
   "cell_type": "code",
   "execution_count": 76,
   "metadata": {
    "collapsed": true
   },
   "outputs": [],
   "source": [
    "w_broadcasten = w[:, np.newaxis, np.newaxis]"
   ]
  },
  {
   "cell_type": "code",
   "execution_count": 77,
   "metadata": {
    "collapsed": false
   },
   "outputs": [],
   "source": [
    "window_timecourses = np.zeros((window_size, num_windows, N_rsn, num_subj))\n",
    "\n",
    "for i_window in xrange(0, num_windows, window_stepsize):\n",
    "    window_timecourses[:, i_window, :, :] = data_all_subj[i_window:(i_window + window_size), :, :] * w_broadcasten"
   ]
  },
  {
   "cell_type": "code",
   "execution_count": 79,
   "metadata": {
    "collapsed": false
   },
   "outputs": [
    {
     "data": {
      "text/plain": [
       "(22, 217, 20, 75)"
      ]
     },
     "execution_count": 79,
     "metadata": {},
     "output_type": "execute_result"
    }
   ],
   "source": [
    "window_timecourses.shape"
   ]
  },
  {
   "cell_type": "markdown",
   "metadata": {},
   "source": [
    "### GraphLasso"
   ]
  },
  {
   "cell_type": "code",
   "execution_count": 86,
   "metadata": {
    "collapsed": true
   },
   "outputs": [],
   "source": [
    "from sklearn.covariance import GraphLassoCV\n",
    "from sklearn.model_selection import KFold"
   ]
  },
  {
   "cell_type": "code",
   "execution_count": 88,
   "metadata": {
    "collapsed": true
   },
   "outputs": [],
   "source": [
    "cv = KFold(n_splits=window_timecourses.shape[1], shuffle=False)"
   ]
  },
  {
   "cell_type": "code",
   "execution_count": 103,
   "metadata": {
    "collapsed": false
   },
   "outputs": [],
   "source": [
    "timecourses_concat = window_timecourses.reshape((np.product(window_timecourses.shape[:2]), \n",
    "                                                            window_timecourses.shape[2], \n",
    "                                                            window_timecourses.shape[3]), order='F')"
   ]
  },
  {
   "cell_type": "code",
   "execution_count": 106,
   "metadata": {
    "collapsed": true
   },
   "outputs": [],
   "source": [
    "glasso = GraphLassoCV(alphas=100, cv=cv, n_jobs=10, assume_centered=True)"
   ]
  },
  {
   "cell_type": "code",
   "execution_count": 108,
   "metadata": {
    "collapsed": false
   },
   "outputs": [
    {
     "name": "stderr",
     "output_type": "stream",
     "text": [
      "/data/pzhutovsky/anaconda2/lib/python2.7/site-packages/sklearn/covariance/graph_lasso_.py:230: RuntimeWarning: invalid value encountered in multiply\n",
      "  * coefs)\n",
      "/data/pzhutovsky/anaconda2/lib/python2.7/site-packages/sklearn/covariance/graph_lasso_.py:232: RuntimeWarning: invalid value encountered in multiply\n",
      "  * coefs)\n",
      "/data/pzhutovsky/anaconda2/lib/python2.7/site-packages/numpy/linalg/linalg.py:1712: RuntimeWarning: invalid value encountered in slogdet\n",
      "  sign, logdet = _umath_linalg.slogdet(a, signature=signature)\n",
      "/data/pzhutovsky/anaconda2/lib/python2.7/site-packages/numpy/linalg/linalg.py:1712: RuntimeWarning: invalid value encountered in slogdet\n",
      "  sign, logdet = _umath_linalg.slogdet(a, signature=signature)\n",
      "/data/pzhutovsky/anaconda2/lib/python2.7/site-packages/numpy/linalg/linalg.py:1712: RuntimeWarning: invalid value encountered in slogdet\n",
      "  sign, logdet = _umath_linalg.slogdet(a, signature=signature)\n",
      "/data/pzhutovsky/anaconda2/lib/python2.7/site-packages/sklearn/covariance/graph_lasso_.py:230: RuntimeWarning: invalid value encountered in multiply\n",
      "  * coefs)\n",
      "/data/pzhutovsky/anaconda2/lib/python2.7/site-packages/sklearn/covariance/graph_lasso_.py:232: RuntimeWarning: invalid value encountered in multiply\n",
      "  * coefs)\n",
      "/data/pzhutovsky/anaconda2/lib/python2.7/site-packages/numpy/linalg/linalg.py:1712: RuntimeWarning: invalid value encountered in slogdet\n",
      "  sign, logdet = _umath_linalg.slogdet(a, signature=signature)\n",
      "/data/pzhutovsky/anaconda2/lib/python2.7/site-packages/numpy/linalg/linalg.py:1712: RuntimeWarning: invalid value encountered in slogdet\n",
      "  sign, logdet = _umath_linalg.slogdet(a, signature=signature)\n",
      "/data/pzhutovsky/anaconda2/lib/python2.7/site-packages/numpy/linalg/linalg.py:1712: RuntimeWarning: invalid value encountered in slogdet\n",
      "  sign, logdet = _umath_linalg.slogdet(a, signature=signature)\n",
      "/data/pzhutovsky/anaconda2/lib/python2.7/site-packages/sklearn/covariance/graph_lasso_.py:230: RuntimeWarning: invalid value encountered in multiply\n",
      "  * coefs)\n",
      "/data/pzhutovsky/anaconda2/lib/python2.7/site-packages/sklearn/covariance/graph_lasso_.py:232: RuntimeWarning: invalid value encountered in multiply\n",
      "  * coefs)\n",
      "/data/pzhutovsky/anaconda2/lib/python2.7/site-packages/numpy/linalg/linalg.py:1712: RuntimeWarning: invalid value encountered in slogdet\n",
      "  sign, logdet = _umath_linalg.slogdet(a, signature=signature)\n",
      "/data/pzhutovsky/anaconda2/lib/python2.7/site-packages/sklearn/covariance/graph_lasso_.py:230: RuntimeWarning: invalid value encountered in multiply\n",
      "  * coefs)\n",
      "/data/pzhutovsky/anaconda2/lib/python2.7/site-packages/sklearn/covariance/graph_lasso_.py:232: RuntimeWarning: invalid value encountered in multiply\n",
      "  * coefs)\n",
      "/data/pzhutovsky/anaconda2/lib/python2.7/site-packages/numpy/linalg/linalg.py:1712: RuntimeWarning: invalid value encountered in slogdet\n",
      "  sign, logdet = _umath_linalg.slogdet(a, signature=signature)\n",
      "/data/pzhutovsky/anaconda2/lib/python2.7/site-packages/sklearn/covariance/graph_lasso_.py:230: RuntimeWarning: invalid value encountered in multiply\n",
      "  * coefs)\n",
      "/data/pzhutovsky/anaconda2/lib/python2.7/site-packages/sklearn/covariance/graph_lasso_.py:232: RuntimeWarning: invalid value encountered in multiply\n",
      "  * coefs)\n",
      "/data/pzhutovsky/anaconda2/lib/python2.7/site-packages/numpy/linalg/linalg.py:1712: RuntimeWarning: invalid value encountered in slogdet\n",
      "  sign, logdet = _umath_linalg.slogdet(a, signature=signature)\n",
      "/data/pzhutovsky/anaconda2/lib/python2.7/site-packages/sklearn/covariance/graph_lasso_.py:230: RuntimeWarning: invalid value encountered in multiply\n",
      "  * coefs)\n",
      "/data/pzhutovsky/anaconda2/lib/python2.7/site-packages/sklearn/covariance/graph_lasso_.py:232: RuntimeWarning: invalid value encountered in multiply\n",
      "  * coefs)\n",
      "/data/pzhutovsky/anaconda2/lib/python2.7/site-packages/numpy/linalg/linalg.py:1712: RuntimeWarning: invalid value encountered in slogdet\n",
      "  sign, logdet = _umath_linalg.slogdet(a, signature=signature)\n",
      "/data/pzhutovsky/anaconda2/lib/python2.7/site-packages/sklearn/covariance/graph_lasso_.py:230: RuntimeWarning: invalid value encountered in multiply\n",
      "  * coefs)\n",
      "/data/pzhutovsky/anaconda2/lib/python2.7/site-packages/sklearn/covariance/graph_lasso_.py:232: RuntimeWarning: invalid value encountered in multiply\n",
      "  * coefs)\n",
      "/data/pzhutovsky/anaconda2/lib/python2.7/site-packages/sklearn/covariance/graph_lasso_.py:230: RuntimeWarning: invalid value encountered in multiply\n",
      "  * coefs)\n",
      "/data/pzhutovsky/anaconda2/lib/python2.7/site-packages/sklearn/covariance/graph_lasso_.py:232: RuntimeWarning: invalid value encountered in multiply\n",
      "  * coefs)\n",
      "/data/pzhutovsky/anaconda2/lib/python2.7/site-packages/sklearn/covariance/graph_lasso_.py:230: RuntimeWarning: invalid value encountered in multiply\n",
      "  * coefs)\n",
      "/data/pzhutovsky/anaconda2/lib/python2.7/site-packages/sklearn/covariance/graph_lasso_.py:232: RuntimeWarning: invalid value encountered in multiply\n",
      "  * coefs)\n",
      "/data/pzhutovsky/anaconda2/lib/python2.7/site-packages/sklearn/covariance/graph_lasso_.py:230: RuntimeWarning: invalid value encountered in multiply\n",
      "  * coefs)\n",
      "/data/pzhutovsky/anaconda2/lib/python2.7/site-packages/sklearn/covariance/graph_lasso_.py:232: RuntimeWarning: invalid value encountered in multiply\n",
      "  * coefs)\n",
      "/data/pzhutovsky/anaconda2/lib/python2.7/site-packages/sklearn/covariance/graph_lasso_.py:252: ConvergenceWarning: graph_lasso: did not converge after 100 iteration: dual gap: -7.673e-03\n",
      "  ConvergenceWarning)\n"
     ]
    },
    {
     "data": {
      "text/plain": [
       "GraphLassoCV(alphas=100, assume_centered=True,\n",
       "       cv=KFold(n_splits=217, random_state=None, shuffle=False),\n",
       "       enet_tol=0.0001, max_iter=100, mode='cd', n_jobs=10,\n",
       "       n_refinements=4, tol=0.0001, verbose=False)"
      ]
     },
     "execution_count": 108,
     "metadata": {},
     "output_type": "execute_result"
    }
   ],
   "source": [
    "glasso.fit(timecourses_concat[:, :, 0])"
   ]
  },
  {
   "cell_type": "code",
   "execution_count": 113,
   "metadata": {
    "collapsed": false
   },
   "outputs": [
    {
     "data": {
      "text/plain": [
       "<matplotlib.colorbar.Colorbar at 0x7fa628794250>"
      ]
     },
     "execution_count": 113,
     "metadata": {},
     "output_type": "execute_result"
    },
    {
     "data": {
      "image/png": "[encoded data removed]",
      "text/plain": [
       "<matplotlib.figure.Figure at 0x7fa65053bcd0>"
      ]
     },
     "metadata": {},
     "output_type": "display_data"
    }
   ],
   "source": [
    "plt.imshow(glasso.covariance_, interpolation='none')\n",
    "plt.colorbar()"
   ]
  },
  {
   "cell_type": "code",
   "execution_count": 122,
   "metadata": {
    "collapsed": false
   },
   "outputs": [
    {
     "data": {
      "text/plain": [
       "array([ 0.,  0.,  0.,  0.,  0.,  0.,  0.,  0.,  0.,  0.,  0.,  0.,  0.,\n",
       "        0.,  0.,  0.,  0.,  0.,  0.,  0.])"
      ]
     },
     "execution_count": 122,
     "metadata": {},
     "output_type": "execute_result"
    }
   ],
   "source": [
    "glasso."
   ]
  },
  {
   "cell_type": "code",
   "execution_count": null,
   "metadata": {
    "collapsed": true
   },
   "outputs": [],
   "source": []
  }
 ],
 "metadata": {
  "anaconda-cloud": {},
  "kernelspec": {
   "display_name": "Python [conda root]",
   "language": "python",
   "name": "conda-root-py"
  },
  "language_info": {
   "codemirror_mode": {
    "name": "ipython",
    "version": 2
   },
   "file_extension": ".py",
   "mimetype": "text/x-python",
   "name": "python",
   "nbconvert_exporter": "python",
   "pygments_lexer": "ipython2",
   "version": "2.7.13"
  }
 },
 "nbformat": 4,
 "nbformat_minor": 2
}
