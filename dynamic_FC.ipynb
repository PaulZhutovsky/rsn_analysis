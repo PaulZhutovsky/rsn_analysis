{
 "cells": [
  {
   "cell_type": "code",
   "execution_count": 26,
   "metadata": {
    "collapsed": true
   },
   "outputs": [],
   "source": [
    "%matplotlib inline\n",
    "import numpy as np\n",
    "import matplotlib.pyplot as plt\n",
    "import os.path as os\n",
    "from statsmodels.tsa.tsatools import detrend\n",
    "from scipy.signal import butter, filtfilt"
   ]
  },
  {
   "cell_type": "code",
   "execution_count": 33,
   "metadata": {
    "collapsed": true
   },
   "outputs": [],
   "source": [
    "dual_reg_folder = '/data/pzhutovsky/fMRI_data/Oxytosin_study/analysis/dual_regression_group_biswal2010/'\n",
    "timecoure_template = 'dr_stage1_subject{:05}.txt'\n",
    "num_subj = 75\n",
    "TR = 2.\n",
    "FS = 1/TR\n",
    "nyq = 0.5 * FS\n",
    "N_vol = 238\n",
    "N_rsn = 20"
   ]
  },
  {
   "cell_type": "markdown",
   "metadata": {},
   "source": [
    "### Post-processing (minimal)"
   ]
  },
  {
   "cell_type": "code",
   "execution_count": 35,
   "metadata": {
    "collapsed": false
   },
   "outputs": [],
   "source": [
    "data_all_subj = np.zeros((N_vol, N_rsn, num_subj))\n",
    "b, a = butter(6, 0.15/nyq, btype='lowpass')\n",
    "\n",
    "for id_sub in xrange(num_subj):\n",
    "    data_subj = np.loadtxt(osp.join(dual_reg_folder, timecoure_template.format(id_sub)))\n",
    "    data_subj = detrend(data_subj, axis=0, order=1)\n",
    "    data_subj = detrend(data_subj, axis=0, order=2)\n",
    "    data_subj = detrend(data_subj, axis=0, order=3)\n",
    "    data_subj = filtfilt(b, a, data_subj, axis=0)\n",
    "    data_subj = (data_subj - data_subj.mean(axis=0, keepdims=True))/data_subj.std(axis=0, keepdims=True)\n",
    "    \n",
    "    data_all_subj[..., id_sub] = data_subj"
   ]
  }
 ],
 "metadata": {
  "anaconda-cloud": {},
  "kernelspec": {
   "display_name": "Python [conda root]",
   "language": "python",
   "name": "conda-root-py"
  },
  "language_info": {
   "codemirror_mode": {
    "name": "ipython",
    "version": 2
   },
   "file_extension": ".py",
   "mimetype": "text/x-python",
   "name": "python",
   "nbconvert_exporter": "python",
   "pygments_lexer": "ipython2",
   "version": "2.7.13"
  }
 },
 "nbformat": 4,
 "nbformat_minor": 2
}
